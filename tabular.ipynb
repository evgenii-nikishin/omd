{
  "nbformat": 4,
  "nbformat_minor": 0,
  "metadata": {
    "colab": {
      "name": "tabular.ipynb",
      "provenance": [],
      "collapsed_sections": [],
      "toc_visible": true
    },
    "kernelspec": {
      "name": "python3",
      "display_name": "Python 3"
    }
  },
  "cells": [
    {
      "cell_type": "markdown",
      "metadata": {
        "id": "oEqeMO_W9Zj7"
      },
      "source": [
        "# Analysis of Optimal Model Design (OMD) for the Tabular Case"
      ]
    },
    {
      "cell_type": "markdown",
      "metadata": {
        "id": "yuXBiEBBqxbM"
      },
      "source": [
        "We recommend running the notebook in Google Colab to have all the dependencies installed."
      ]
    },
    {
      "cell_type": "code",
      "metadata": {
        "id": "D2xpisIH9AQd"
      },
      "source": [
        "!pip install git+https://github.com/gehring/fax"
      ],
      "execution_count": null,
      "outputs": []
    },
    {
      "cell_type": "code",
      "metadata": {
        "id": "2cqOAaJJ7Hu2"
      },
      "source": [
        "import hypothesis.extra.numpy\n",
        "import hypothesis.strategies\n",
        "from functools import partial\n",
        "import numpy as np\n",
        "from tqdm import tqdm\n",
        "from tabulate import tabulate\n",
        "import time\n",
        "\n",
        "import jax.numpy as jnp\n",
        "import jax.test_util\n",
        "from jax import random\n",
        "from jax import tree_util\n",
        "from jax.config import config\n",
        "from jax.experimental import optimizers\n",
        "from jax.experimental.stax import softmax\n",
        "from jax.scipy.special import logsumexp\n",
        "from jax.lax import cond\n",
        "\n",
        "from fax import converge\n",
        "from fax import test_util\n",
        "from fax.constrained import implicit_ecp, cga_ecp\n",
        "\n",
        "config.update(\"jax_enable_x64\", True)"
      ],
      "execution_count": null,
      "outputs": []
    },
    {
      "cell_type": "code",
      "metadata": {
        "id": "ZEI-sV7kjImH"
      },
      "source": [
        "import matplotlib.pyplot as plt\n",
        "%matplotlib inline\n",
        "plt.style.use('default')\n",
        "plt.rcParams['figure.figsize'] = (4.8, 3.6)\n",
        "plt.rcParams['xtick.labelsize'] = 10\n",
        "plt.rcParams['ytick.labelsize'] = 10\n",
        "plt.rcParams['legend.loc'] = 'best'\n",
        "plt.rcParams['legend.fontsize'] = 11\n",
        "plt.rcParams['lines.linewidth'] = 1.5\n",
        "plt.rcParams['axes.formatter.offset_threshold'] = 1\n",
        "plt.rcParams['axes.labelsize'] = 12\n",
        "plt.rcParams['axes.grid'] = True"
      ],
      "execution_count": null,
      "outputs": []
    },
    {
      "cell_type": "markdown",
      "metadata": {
        "id": "GvdqIwtwbyls"
      },
      "source": [
        "## Defining the MDP\n",
        "\n",
        "The experiments use a 2 state, 2 action MDP described in [The Value Function Polytope in Reinforcement Learning](https://arxiv.org/abs/1901.11524) (Appendix A, part d)."
      ]
    },
    {
      "cell_type": "code",
      "metadata": {
        "id": "Ha_nvROPJmkf",
        "colab": {
          "base_uri": "https://localhost:8080/"
        },
        "outputId": "8d288ea0-30cb-46fe-81c2-a079e8fd9f14"
      },
      "source": [
        "# based on https://github.com/gehring/fax/blob/master/fax/constrained/constrained_test.py\n",
        "\n",
        "true_transition = jnp.array([[[0.7, 0.3], [0.2, 0.8]],\n",
        "                            [[0.99, 0.01], [0.99, 0.01]]])\n",
        "true_reward = jnp.array(([[-0.45, -0.1],\n",
        "                          [0.5, 0.5]]))\n",
        "initial_distribution = jnp.ones(2) / 2\n",
        "temperature = 0.01\n",
        "true_discount = 0.9\n",
        "\n",
        "\n",
        "optimal_value = 1.0272727  # pre-computed\n",
        "kwargs = {'max_iter': 10000, 'lr_func': 0.01, 'optimizer': optimizers.adam}\n",
        "\n",
        "def smooth_bellman_optimality_operator(x, params):\n",
        "  transition, reward, discount, temperature = params\n",
        "  return reward + discount * jnp.einsum('ast,t->sa', transition, temperature *\n",
        "                                        logsumexp((1. / temperature) * x, axis=1))\n",
        "\n",
        "@jax.jit\n",
        "def objective_returns(x, params):\n",
        "  del params\n",
        "  policy = softmax((1. / temperature) * x)\n",
        "  ppi = jnp.einsum('ast,sa->st', true_transition, policy)\n",
        "  rpi = jnp.einsum('sa,sa->s', true_reward, policy)\n",
        "  vf = jnp.linalg.solve(jnp.eye(true_transition.shape[-1]) - true_discount * ppi, rpi)\n",
        "  return initial_distribution @ vf\n",
        "\n",
        "@jax.jit\n",
        "def objective_bellman(x, params):\n",
        "  return -np.mean(true_constraints(x, params) ** 2)\n",
        "\n",
        "@jax.jit\n",
        "def true_constraints(x, params):\n",
        "  del params\n",
        "  params = (true_transition, true_reward, true_discount, temperature)\n",
        "  return smooth_bellman_optimality_operator(x, params) - x\n",
        "\n",
        "@jax.jit\n",
        "def bellman_update(x, params):\n",
        "  transition_logits, reward_hat = params\n",
        "  # OMD does not have a constraint forcing p(s'|s,a) to be a distribution\n",
        "  transition_hat = softmax((1. / temperature) * transition_logits)\n",
        "  params = (transition_hat, reward_hat, true_discount, temperature)\n",
        "  return smooth_bellman_optimality_operator(x, params)\n",
        "\n",
        "@jax.jit\n",
        "def equality_constraints(x, params):\n",
        "  return bellman_update(x, params) - x\n",
        "\n",
        "@jax.jit\n",
        "def objective_bellman_model(x, params):\n",
        "  # we might want to have a weighted average instead of mean\n",
        "  return -np.mean(equality_constraints(x, params) ** 2)\n",
        "\n",
        "@jax.jit\n",
        "def grad_constraints(x, params):\n",
        "  return jax.grad(objective_bellman_model, argnums=0)(x, params)\n",
        "\n",
        "@jax.jit\n",
        "def tree_norm(tree):\n",
        "  return jnp.sqrt(sum((x**2).sum() for x in jax.tree_leaves(tree)))"
      ],
      "execution_count": null,
      "outputs": [
        {
          "output_type": "stream",
          "text": [
            "WARNING:absl:No GPU/TPU found, falling back to CPU. (Set TF_CPP_MIN_LOG_LEVEL=0 and rerun for more info.)\n"
          ],
          "name": "stderr"
        }
      ]
    },
    {
      "cell_type": "code",
      "metadata": {
        "id": "fiMimpMcjDf8"
      },
      "source": [
        "Q_opt = jnp.array([[0.16363807, 0.06282009],\n",
        "                   [1.89091046, 0.66282009]])\n",
        "# uncomment to compute a fixed point of the _smooth_ Bellman optimality operator\n",
        "# Q_opt = jnp.zeros((2, 2))\n",
        "# for _ in range(1000):\n",
        "#   Q_opt = smooth_bellman_optimality_operator(Q_opt, (true_transition, true_reward, true_discount, temperature))\n",
        "assert jnp.allclose(Q_opt - smooth_bellman_optimality_operator(Q_opt, (true_transition, true_reward, true_discount, temperature)), 0).item()"
      ],
      "execution_count": null,
      "outputs": []
    },
    {
      "cell_type": "markdown",
      "metadata": {
        "id": "-7rcxdVQdr-_"
      },
      "source": [
        "## Performance of OMD and MLE under the model misspecification\n"
      ]
    },
    {
      "cell_type": "code",
      "metadata": {
        "id": "Ad2Ta0hoTPwV"
      },
      "source": [
        "# Projected Adam based on\n",
        "# https://jax.readthedocs.io/en/latest/_modules/jax/experimental/optimizers.html#sgd\n",
        "\n",
        "from jax.experimental.optimizers import optimizer\n",
        "from typing import Callable, Union\n",
        "\n",
        "Step = int\n",
        "Schedule = Callable[[Step], float]\n",
        "\n",
        "\n",
        "@optimizer\n",
        "def padam(step_size, norm_bound, b1=0.9, b2=0.999, eps=1e-8):\n",
        "  \"\"\"Construct optimizer triple for PROJECTED Adam.\n",
        "\n",
        "  Args:\n",
        "    step_size: positive scalar, or a callable representing a step size schedule\n",
        "      that maps the iteration index to positive scalar.\n",
        "    b1: optional, a positive scalar value for beta_1, the exponential decay rate\n",
        "      for the first moment estimates (default 0.9).\n",
        "    b2: optional, a positive scalar value for beta_2, the exponential decay rate\n",
        "      for the second moment estimates (default 0.999).\n",
        "    eps: optional, a positive scalar value for epsilon, a small constant for\n",
        "      numerical stability (default 1e-8).\n",
        "\n",
        "  Returns:\n",
        "    An (init_fun, update_fun, get_params) triple.\n",
        "  \"\"\"\n",
        "  step_size = make_schedule(step_size)\n",
        "  def init(x0):\n",
        "    m0 = jnp.zeros_like(x0)\n",
        "    v0 = jnp.zeros_like(x0)\n",
        "    return x0, m0, v0\n",
        "  def update(i, g, state):\n",
        "    x, m, v = state\n",
        "    m = (1 - b1) * g + b1 * m  # First  moment estimate.\n",
        "    v = (1 - b2) * jnp.square(g) + b2 * v  # Second moment estimate.\n",
        "    mhat = m / (1 - jnp.asarray(b1, m.dtype) ** (i + 1))  # Bias correction.\n",
        "    vhat = v / (1 - jnp.asarray(b2, m.dtype) ** (i + 1))\n",
        "    new_x = x - step_size(i) * mhat / (jnp.sqrt(vhat) + eps)\n",
        "\n",
        "    new_x_norm = tree_norm((new_x[0] / temperature, new_x[1]))  # softmax temp\n",
        "    \n",
        "    # projection\n",
        "    new_x = jax.lax.cond(\n",
        "      new_x_norm > norm_bound,\n",
        "      lambda z: jax.tree_map(lambda y: y * norm_bound / new_x_norm, z),\n",
        "      lambda z: z,\n",
        "      operand=new_x)\n",
        "\n",
        "    return new_x, m, v\n",
        "  def get_params(state):\n",
        "    x, _, _ = state\n",
        "    return x\n",
        "  return init, update, get_params\n",
        "\n",
        "### learning rate schedules\n",
        "\n",
        "def constant(step_size) -> Schedule:\n",
        "  def schedule(i):\n",
        "    return step_size\n",
        "  return schedule\n",
        "\n",
        "def make_schedule(scalar_or_schedule: Union[float, Schedule]) -> Schedule:\n",
        "  if callable(scalar_or_schedule):\n",
        "    return scalar_or_schedule\n",
        "  elif jnp.ndim(scalar_or_schedule) == 0:\n",
        "    return constant(scalar_or_schedule)\n",
        "  else:\n",
        "    raise TypeError(type(scalar_or_schedule))"
      ],
      "execution_count": null,
      "outputs": []
    },
    {
      "cell_type": "code",
      "metadata": {
        "id": "Ydd_3tulS6tc"
      },
      "source": [
        "# from https://github.com/gehring/fax/blob/master/fax/constrained/constrained.py\n",
        "\n",
        "\"\"\" Optimization methods for parametric nonlinear equality constrained problems.\n",
        "\"\"\"\n",
        "\n",
        "from fax.constrained.constrained import default_convergence_test\n",
        "import collections\n",
        "\n",
        "from scipy.optimize import minimize\n",
        "\n",
        "import jax\n",
        "from jax import lax\n",
        "from jax import jit\n",
        "from jax import grad\n",
        "from jax import jacrev\n",
        "#import jax.numpy as np\n",
        "from jax import tree_util\n",
        "from jax.experimental import optimizers\n",
        "from jax.flatten_util import ravel_pytree\n",
        "\n",
        "from fax import math\n",
        "from fax import converge\n",
        "from fax import implicit\n",
        "from fax.competitive import cga\n",
        "from fax.loop import fixed_point_iteration\n",
        "\n",
        "import functools\n",
        "import operator\n",
        "_add = functools.partial(jax.tree_multimap, operator.add)\n",
        "\n",
        "\n",
        "ConstrainedSolution = collections.namedtuple(\n",
        "    \"ConstrainedSolution\",\n",
        "    \"value converged iterations\"\n",
        ")\n",
        "\n",
        "\n",
        "def implicit_ecp(\n",
        "        objective, equality_constraints, initial_values, lr_func, max_iter=500,\n",
        "        convergence_test=default_convergence_test, batched_iter_size=1, optimizer=optimizers.adam,\n",
        "        tol=1e-6, constraints_solver=None, std=0., norm_bound=None, agent_type='omd', \n",
        "        seed=0):\n",
        "    \"\"\"Use implicit differentiation to solve a nonlinear equality-constrained program of the form:\n",
        "    max f(x, θ) subject to h(x, θ) = 0 .\n",
        "    We perform a change of variable via the implicit function theorem and obtain the unconstrained\n",
        "    program:\n",
        "    max f(φ(θ), θ) ,\n",
        "    where φ is an implicit function of the parameters θ such that h(φ(θ), θ) = 0.\n",
        "    Args:\n",
        "        objective (callable): Binary callable with signature `f(x, θ)`\n",
        "        equality_constraints (callble): Binary callable with signature `h(x, θ)`\n",
        "        initial_values (tuple): Tuple of initial values `(x_0, θ_0)`\n",
        "        lr_func (scalar or callable): The step size used by the unconstrained optimizer. This can\n",
        "            be a scalar ora callable taking in the current iteration and returning a scalar.\n",
        "        max_iter (int, optional): Maximum number of outer iterations. Defaults to 500.\n",
        "        convergence_test (callable): Binary callable with signature `callback(new_state, old_state)`\n",
        "            where `new_state` and `old_state` are tuples of the form `(x_k^*, θ_k)` such that\n",
        "            `h(x_k^*, θ_k) = 0` (and with `k-1` for `old_state`). The default convergence test\n",
        "            returns `true` if both elements of the tuple have not changed within some tolerance.\n",
        "        batched_iter_size (int, optional):  The number of iterations to be\n",
        "            unrolled and executed per iterations of the `while_loop` op for the forward iteration\n",
        "            and the fixed-point adjoint iteration. Defaults to 1.\n",
        "        optimizer (callable, optional): Unary callable waking a `lr_func` as a argument and\n",
        "            returning an unconstrained optimizer. Defaults to `jax.experimental.optimizers.sgd`.\n",
        "        tol (float, optional): Tolerance for the forward and backward iterations. Defaults to 1e-6.\n",
        "    Returns:\n",
        "        fax.loop.FixedPointSolution: A named tuple containing the solution `(x, θ)` as as the\n",
        "            `value` attribute, `converged` (a bool indicating whether convergence was achieved),\n",
        "            `iterations` (the number of iterations used), and `previous_value`\n",
        "            (the value of the solution on the previous iteration). The previous value satisfies\n",
        "            `sol.value=func(sol.previous_value)` and allows us to log the size\n",
        "            of the last step if desired.\n",
        "    \"\"\"\n",
        "\n",
        "    if constraints_solver is None:\n",
        "        constraints_solver = implicit.two_phase_solve\n",
        "\n",
        "    if agent_type == 'omd':\n",
        "        def _objective(init_xs, params, rng):\n",
        "            x_sol = constraints_solver(\n",
        "                param_func=make_fp_operator,\n",
        "                init_xs=init_xs,\n",
        "                params=params,\n",
        "            )\n",
        "            \n",
        "            # for the experiment with the IFT sensitivity to the inner loop solution\n",
        "            noise = jax.random.normal(rng, x_sol.shape) * std\n",
        "            x_sol = _add(x_sol, noise)\n",
        "\n",
        "            return -objective(x_sol, params), x_sol\n",
        "    elif agent_type == 'mle':\n",
        "        def mle_objective(params):\n",
        "            transition_logits, reward_hat = params\n",
        "            transition_hat = softmax((1. / temperature) * transition_logits)\n",
        "            loss_reward = ((reward_hat - true_reward)**2).mean()\n",
        "            loss_kl = (true_transition * (jnp.log(true_transition) - jnp.log(transition_hat))).mean()\n",
        "            loss_kl *= true_transition.shape[2]  # average over (s,a), sum over s'\n",
        "            return (loss_reward + loss_kl)\n",
        "\n",
        "        def _objective(init_xs, params, rng):\n",
        "            x_sol = constraints_solver(\n",
        "                param_func=make_fp_operator,\n",
        "                init_xs=init_xs,\n",
        "                params=params,\n",
        "            )\n",
        "\n",
        "            return mle_objective(params), x_sol\n",
        "\n",
        "    def make_fp_operator(params):\n",
        "        def _fp_operator(x):\n",
        "            return x + equality_constraints(x, params)\n",
        "        return _fp_operator\n",
        "\n",
        "    if norm_bound is None:\n",
        "      opt_init, opt_update, get_params = optimizer(step_size=lr_func)\n",
        "    else:\n",
        "      opt_init, opt_update, get_params = optimizer(step_size=lr_func, \n",
        "                                                  norm_bound=norm_bound)\n",
        "\n",
        "\n",
        "    grad_objective = grad(_objective, 1, has_aux=True)\n",
        "\n",
        "    def update(values):\n",
        "        i, old_xstar, opt_state = values\n",
        "        old_params = get_params(opt_state)\n",
        "        rng = jax.random.PRNGKey(10000*seed + i)\n",
        "\n",
        "        grads_params, new_xstar = grad_objective(old_xstar, old_params, rng)\n",
        "        opt_state = opt_update(i, grads_params, opt_state)\n",
        "\n",
        "        return i + 1, new_xstar, opt_state\n",
        "\n",
        "    def _convergence_test(new_state, old_state):\n",
        "        x_new, params_new = new_state[1], get_params(new_state[2])\n",
        "        x_old, params_old = old_state[1], get_params(old_state[2])\n",
        "        return convergence_test((x_new, params_new), (x_old, params_old))\n",
        "\n",
        "    x0, init_params = initial_values\n",
        "    opt_state = opt_init(init_params)\n",
        "\n",
        "    if max_iter >= 1:\n",
        "      solution = fixed_point_iteration(init_x=(0, x0, opt_state),\n",
        "                                      func=update,\n",
        "                                      convergence_test=jit(_convergence_test),\n",
        "                                      max_iter=max_iter,\n",
        "                                      batched_iter_size=batched_iter_size,\n",
        "                                      unroll=False)\n",
        "      return solution.value[1], get_params(solution.value[2])\n",
        "    else:\n",
        "      return x0, get_params(opt_state)"
      ],
      "execution_count": null,
      "outputs": []
    },
    {
      "cell_type": "code",
      "metadata": {
        "colab": {
          "base_uri": "https://localhost:8080/"
        },
        "id": "OmSAg7y9IhQ4",
        "outputId": "4f4965ac-82b1-4aac-cf5d-5e3d31d8aef9"
      },
      "source": [
        "start = time.time()\n",
        "norm_bound_list = jnp.linspace(0, 6, 20)\n",
        "num_seeds = 10\n",
        "headers = [\"Seed\", \"Q\", \"Policy\", \"p_\\\\theta\", \"r_\\\\theta\", \"J\", \"\\|Q-B^true Q\\|^2\", \"Q-B^\\\\theta Q\", \"grad\\|Q-B^\\\\theta Q\\|^2\"]\n",
        "all_results = []\n",
        "\n",
        "for i, norm_bound in enumerate(norm_bound_list):\n",
        "  results = []\n",
        "  for j, seed in enumerate(range(1, num_seeds+1)):\n",
        "    kwargs['seed'] = seed\n",
        "    kwargs['norm_bound'] = norm_bound\n",
        "    kwargs['optimizer'] = padam\n",
        "    kwargs['lr_func'] = 0.01\n",
        "    kwargs['agent_type'] = 'mle'\n",
        "    \n",
        "    rngs = jax.random.split(jax.random.PRNGKey(seed), 3)\n",
        "    initial_values = (\n",
        "      jax.random.uniform(rngs[0], true_reward.shape),\n",
        "      (jax.random.uniform(rngs[1], true_transition.shape), \n",
        "      jax.random.uniform(rngs[2], true_reward.shape))\n",
        "    )\n",
        "\n",
        "    solution = implicit_ecp(objective_returns, equality_constraints, initial_values, **kwargs)\n",
        "\n",
        "    results.append([\n",
        "      seed,\n",
        "      solution[0], \n",
        "      softmax((1. / temperature) * solution[0]), \n",
        "      softmax((1. / temperature) * solution[1][0]), \n",
        "      solution[1][1], \n",
        "      objective_returns(*solution),\n",
        "      objective_bellman(*solution),\n",
        "      equality_constraints(*solution),\n",
        "      grad_constraints(*solution)\n",
        "    ])\n",
        "    \n",
        "  print('Done {}/{} bounds'.format(i+1, len(norm_bound_list)))\n",
        "  all_results.append(results)\n",
        "print('Done in {:.2f} minutes'.format((time.time() - start) / 60))"
      ],
      "execution_count": null,
      "outputs": [
        {
          "output_type": "stream",
          "text": [
            "Done 1/20 bounds\n",
            "Done 2/20 bounds\n",
            "Done 3/20 bounds\n",
            "Done 4/20 bounds\n",
            "Done 5/20 bounds\n",
            "Done 6/20 bounds\n",
            "Done 7/20 bounds\n",
            "Done 8/20 bounds\n",
            "Done 9/20 bounds\n",
            "Done 10/20 bounds\n",
            "Done 11/20 bounds\n",
            "Done 12/20 bounds\n",
            "Done 13/20 bounds\n",
            "Done 14/20 bounds\n",
            "Done 15/20 bounds\n",
            "Done 16/20 bounds\n",
            "Done 17/20 bounds\n",
            "Done 18/20 bounds\n",
            "Done 19/20 bounds\n",
            "Done 20/20 bounds\n",
            "Done in 2.77 minutes\n"
          ],
          "name": "stdout"
        }
      ]
    },
    {
      "cell_type": "code",
      "metadata": {
        "id": "CyLMBd0obK6W"
      },
      "source": [
        "# for the last norm bound\n",
        "print(tabulate(all_results[-1], headers=headers))"
      ],
      "execution_count": null,
      "outputs": []
    },
    {
      "cell_type": "code",
      "metadata": {
        "id": "Cwdmiz5hi1Dn"
      },
      "source": [
        "Js_mle_mean, Js_mle_std = [], []\n",
        "for i, norm_bound in enumerate(norm_bound_list):\n",
        "  Js_mle = list(map(lambda x: x[5].item(), all_results[i]))\n",
        "  Js_mle_mean.append(np.mean(Js_mle))\n",
        "  Js_mle_std.append(np.std(Js_mle))\n",
        "Js_mle_mean, Js_mle_std = np.array(Js_mle_mean), np.array(Js_mle_std)"
      ],
      "execution_count": null,
      "outputs": []
    },
    {
      "cell_type": "code",
      "metadata": {
        "id": "6k4eIbNnjN_B",
        "colab": {
          "base_uri": "https://localhost:8080/"
        },
        "outputId": "6fcebc94-f8bf-40a9-ed1e-05b6e72aa577"
      },
      "source": [
        "start = time.time()\n",
        "norm_bound_list = jnp.linspace(0, 6, 20)\n",
        "num_seeds = 10\n",
        "headers = [\"Seed\", \"Q\", \"Policy\", \"p_\\\\theta\", \"r_\\\\theta\", \"J\", \"\\|Q-B^true Q\\|^2\", \"Q-B^\\\\theta Q\", \"grad\\|Q-B^\\\\theta Q\\|^2\"]\n",
        "all_results = []\n",
        "\n",
        "for i, norm_bound in enumerate(norm_bound_list):\n",
        "  results = []\n",
        "  for j, seed in enumerate(range(1, num_seeds+1)):\n",
        "    kwargs['seed'] = seed\n",
        "    kwargs['norm_bound'] = norm_bound\n",
        "    kwargs['optimizer'] = padam\n",
        "    kwargs['lr_func'] = 0.01\n",
        "    kwargs['agent_type'] = 'omd'\n",
        "    \n",
        "    rngs = jax.random.split(jax.random.PRNGKey(seed), 3)\n",
        "    initial_values = (\n",
        "      jax.random.uniform(rngs[0], true_reward.shape),\n",
        "      (jax.random.uniform(rngs[1], true_transition.shape), \n",
        "      jax.random.uniform(rngs[2], true_reward.shape))\n",
        "    )\n",
        "\n",
        "    # solution = implicit_ecp(objective_bellman, equality_constraints, initial_values, **kwargs)\n",
        "    solution = implicit_ecp(objective_returns, equality_constraints, initial_values, **kwargs)\n",
        "    \n",
        "    results.append([\n",
        "      seed,\n",
        "      solution[0], \n",
        "      softmax((1. / temperature) * solution[0]), \n",
        "      softmax((1. / temperature) * solution[1][0]), \n",
        "      solution[1][1], \n",
        "      objective_returns(*solution),\n",
        "      objective_bellman(*solution),\n",
        "      equality_constraints(*solution),\n",
        "      grad_constraints(*solution)\n",
        "    ])\n",
        "    \n",
        "  print('Done {}/{} bounds'.format(i+1, len(norm_bound_list)))\n",
        "  all_results.append(results)\n",
        "print('Done in {:.2f} minutes'.format((time.time() - start) / 60))"
      ],
      "execution_count": null,
      "outputs": [
        {
          "output_type": "stream",
          "text": [
            "Done 1/20 bounds\n",
            "Done 2/20 bounds\n",
            "Done 3/20 bounds\n",
            "Done 4/20 bounds\n",
            "Done 5/20 bounds\n",
            "Done 6/20 bounds\n",
            "Done 7/20 bounds\n",
            "Done 8/20 bounds\n",
            "Done 9/20 bounds\n",
            "Done 10/20 bounds\n",
            "Done 11/20 bounds\n",
            "Done 12/20 bounds\n",
            "Done 13/20 bounds\n",
            "Done 14/20 bounds\n",
            "Done 15/20 bounds\n",
            "Done 16/20 bounds\n",
            "Done 17/20 bounds\n",
            "Done 18/20 bounds\n",
            "Done 19/20 bounds\n",
            "Done 20/20 bounds\n",
            "Done in 5.52 minutes\n"
          ],
          "name": "stdout"
        }
      ]
    },
    {
      "cell_type": "code",
      "metadata": {
        "id": "-9yqNc0EXDWi"
      },
      "source": [
        "# for the last norm bound\n",
        "print(tabulate(all_results[-1], headers=headers))"
      ],
      "execution_count": null,
      "outputs": []
    },
    {
      "cell_type": "code",
      "metadata": {
        "id": "7JXnuycbi2RP"
      },
      "source": [
        "Js_omd_mean, Js_omd_std = [], []\n",
        "for i, norm_bound in enumerate(norm_bound_list):\n",
        "  Js_omd = list(map(lambda x: x[5].item(), all_results[i]))\n",
        "  Js_omd_mean.append(np.mean(Js_omd))\n",
        "  Js_omd_std.append(np.std(Js_omd))\n",
        "Js_omd_mean, Js_omd_std = np.array(Js_omd_mean), np.array(Js_omd_std)"
      ],
      "execution_count": null,
      "outputs": []
    },
    {
      "cell_type": "code",
      "metadata": {
        "id": "xn_dCfO9mIJz",
        "colab": {
          "base_uri": "https://localhost:8080/",
          "height": 366
        },
        "outputId": "12f7638b-18f0-4bd1-95ec-7e657c393e8b"
      },
      "source": [
        "idx = np.array([1, 2, 3, 4, 6, 9, 13, 16])\n",
        "plt.plot(norm_bound_list[idx], Js_mle_mean[idx], 'o-', c='b', label='MLE', markersize=6)\n",
        "plt.plot(norm_bound_list[idx], Js_omd_mean[idx], '^-', c='r', label='OMD', markersize=6)\n",
        "plt.plot((0, 5.2), (optimal_value, optimal_value), '--', c='black', label='Optimal')\n",
        "plt.xlim(0, 5.2)\n",
        "plt.ylabel('Expected Return')\n",
        "plt.xlabel('Model Parameter Norm')\n",
        "plt.legend()\n",
        "plt.tight_layout()\n",
        "plt.savefig('misspec_tab.pdf')"
      ],
      "execution_count": null,
      "outputs": [
        {
          "output_type": "display_data",
          "data": {
            "image/png": "[encoded data removed]",
            "text/plain": [
              "<Figure size 480x360 with 1 Axes>"
            ]
          },
          "metadata": {
            "tags": []
          }
        }
      ]
    },
    {
      "cell_type": "markdown",
      "metadata": {
        "id": "Z847v6f8S6tb"
      },
      "source": [
        "## Comparing $Q^*$ approximations errors and error bounds\n"
      ]
    },
    {
      "cell_type": "code",
      "metadata": {
        "id": "Pa1vbjq7wKX0",
        "colab": {
          "base_uri": "https://localhost:8080/"
        },
        "outputId": "299856e4-62b6-4567-d275-7bc3b40e5c02"
      },
      "source": [
        "start = time.time()\n",
        "norm_bound_list = np.linspace(0, 6, 20)\n",
        "num_seeds = 10\n",
        "headers = [\"Seed\", \"Q\", \"Policy\", \"p_\\\\theta\", \"r_\\\\theta\", \"J\", \"\\|Q-B^true Q\\|^2\", \"Q-B^\\\\theta Q\", \"grad\\|Q-B^\\\\theta Q\\|^2\"]\n",
        "all_errors_pr = []\n",
        "all_bounds_pr = []\n",
        "all_q_mle_approx = []\n",
        "all_bounds_mle_gap = []\n",
        "\n",
        "for i, norm_bound in enumerate(norm_bound_list):\n",
        "  results = []\n",
        "  for j, seed in enumerate(range(1, num_seeds+1)):\n",
        "    kwargs['seed'] = seed\n",
        "    kwargs['norm_bound'] = norm_bound\n",
        "    kwargs['optimizer'] = padam\n",
        "    kwargs['lr_func'] = 0.01\n",
        "    kwargs['agent_type'] = 'mle'\n",
        "    \n",
        "    rngs = jax.random.split(jax.random.PRNGKey(seed), 3)\n",
        "    initial_values = (\n",
        "      jax.random.uniform(rngs[0], true_reward.shape),\n",
        "      (jax.random.uniform(rngs[1], true_transition.shape), \n",
        "      jax.random.uniform(rngs[2], true_reward.shape))\n",
        "    )\n",
        "\n",
        "    solution = implicit_ecp(objective_bellman, equality_constraints, initial_values, **kwargs)\n",
        "    # solution = implicit_ecp(objective_returns, equality_constraints, initial_values, **kwargs)\n",
        "\n",
        "    results.append([\n",
        "      seed,\n",
        "      solution[0], \n",
        "      softmax((1. / temperature) * solution[0]), \n",
        "      softmax((1. / temperature) * solution[1][0]), \n",
        "      solution[1][1], \n",
        "      objective_returns(*solution),\n",
        "      objective_bellman(*solution),\n",
        "      equality_constraints(*solution),\n",
        "      grad_constraints(*solution)\n",
        "    ])\n",
        "    \n",
        "  print('Done {}/{} norm_bounds'.format(i+1, len(norm_bound_list)))\n",
        "  errors_pr = list(map(lambda x: [jnp.max(jnp.sum(jnp.abs(x[3] - true_transition), axis=-1)).item(),\n",
        "                                  jnp.max(jnp.abs(x[4] - true_reward)).item()], results))\n",
        "  errors_pr_means = np.mean(errors_pr, 0)\n",
        "  errors_pr_stderrs = np.std(errors_pr, 0) / np.sqrt(len(errors_pr))\n",
        "  all_errors_pr.append([errors_pr_means, errors_pr_stderrs])\n",
        "  \n",
        "  bounds_pr = list(map(lambda x: [jnp.max(jnp.abs(x[4] - true_reward)).item() / (\n",
        "      1 - true_discount) + true_discount * jnp.max(jnp.abs(true_reward)) * jnp.max(\n",
        "          jnp.sum(jnp.abs(x[3] - true_transition), axis=-1)).item() / (2 * (1 - true_discount) ** 2)], results))\n",
        "  bounds_pr_means = np.mean(bounds_pr, 0)\n",
        "  bounds_pr_stderrs = np.std(bounds_pr, 0) / np.sqrt(len(bounds_pr))\n",
        "  all_bounds_pr.append([bounds_pr_means, bounds_pr_stderrs])\n",
        "  \n",
        "  q_mle_approx = list(map(lambda x: [jnp.max(jnp.abs(Q_opt - x[1])).item()], results))\n",
        "  q_mle_approx_means = np.mean(q_mle_approx, 0)\n",
        "  q_mle_approx_stderrs = np.std(q_mle_approx, 0) / np.sqrt(len(q_mle_approx))\n",
        "  all_q_mle_approx.append([q_mle_approx_means, q_mle_approx_stderrs])\n",
        "\n",
        "  bounds_mle_gap = list(map(lambda x: [x[0][0] - x[1][0]], zip(bounds_pr, q_mle_approx)))\n",
        "  bounds_mle_gap_means = np.mean(bounds_mle_gap, 0)\n",
        "  bounds_mle_gap_stderrs = np.std(bounds_mle_gap, 0) / np.sqrt(len(bounds_mle_gap))\n",
        "  all_bounds_mle_gap.append([bounds_mle_gap_means, bounds_mle_gap_stderrs])\n",
        "\n",
        "print('Done in {:.2f} minutes'.format((time.time() - start) / 60))"
      ],
      "execution_count": null,
      "outputs": [
        {
          "output_type": "stream",
          "text": [
            "Done 1/20 norm_bounds\n",
            "Done 2/20 norm_bounds\n",
            "Done 3/20 norm_bounds\n",
            "Done 4/20 norm_bounds\n",
            "Done 5/20 norm_bounds\n",
            "Done 6/20 norm_bounds\n",
            "Done 7/20 norm_bounds\n",
            "Done 8/20 norm_bounds\n",
            "Done 9/20 norm_bounds\n",
            "Done 10/20 norm_bounds\n",
            "Done 11/20 norm_bounds\n",
            "Done 12/20 norm_bounds\n",
            "Done 13/20 norm_bounds\n",
            "Done 14/20 norm_bounds\n",
            "Done 15/20 norm_bounds\n",
            "Done 16/20 norm_bounds\n",
            "Done 17/20 norm_bounds\n",
            "Done 18/20 norm_bounds\n",
            "Done 19/20 norm_bounds\n",
            "Done 20/20 norm_bounds\n",
            "Done in 2.84 minutes\n"
          ],
          "name": "stdout"
        }
      ]
    },
    {
      "cell_type": "code",
      "metadata": {
        "id": "EvFlrAllwKYG",
        "colab": {
          "base_uri": "https://localhost:8080/"
        },
        "outputId": "57e6a172-578e-49ed-f350-2a7b2868b922"
      },
      "source": [
        "start = time.time()\n",
        "norm_bound_list = np.linspace(0, 6, 20)\n",
        "num_seeds = 10\n",
        "headers = [\"Seed\", \"Q\", \"Policy\", \"p_\\\\theta\", \"r_\\\\theta\", \"J\", \"\\|Q-B^true Q\\|^2\", \"Q-B^\\\\theta Q\", \"grad\\|Q-B^\\\\theta Q\\|^2\"]\n",
        "all_errors = []\n",
        "all_q_omd_approx = []\n",
        "all_bounds = []\n",
        "all_bounds_omd_gap = []\n",
        "\n",
        "for i, norm_bound in enumerate(norm_bound_list):\n",
        "  results = []\n",
        "  for j, seed in enumerate(range(1, num_seeds+1)):\n",
        "    kwargs['seed'] = seed\n",
        "    kwargs['norm_bound'] = norm_bound\n",
        "    kwargs['optimizer'] = padam\n",
        "    kwargs['lr_func'] = 0.01\n",
        "    kwargs['agent_type'] = 'omd'\n",
        "    \n",
        "    rngs = jax.random.split(jax.random.PRNGKey(seed), 3)\n",
        "    initial_values = (\n",
        "      jax.random.uniform(rngs[0], true_reward.shape),\n",
        "      (jax.random.uniform(rngs[1], true_transition.shape), \n",
        "      jax.random.uniform(rngs[2], true_reward.shape))\n",
        "    )\n",
        "\n",
        "    solution = implicit_ecp(objective_bellman, equality_constraints, initial_values, **kwargs)\n",
        "    # solution = implicit_ecp(objective_returns, equality_constraints, initial_values, **kwargs)\n",
        "    \n",
        "    results.append([\n",
        "      seed,\n",
        "      solution[0], \n",
        "      softmax((1. / temperature) * solution[0]), \n",
        "      softmax((1. / temperature) * solution[1][0]), \n",
        "      solution[1][1], \n",
        "      objective_returns(*solution),\n",
        "      objective_bellman(*solution),\n",
        "      equality_constraints(*solution),\n",
        "      grad_constraints(*solution)\n",
        "    ])\n",
        "    \n",
        "  print('Done {}/{} bounds'.format(i+1, len(norm_bound_list)))\n",
        "  errors = list(map(lambda x: [jnp.max(jnp.abs(smooth_bellman_optimality_operator(x[1], (\n",
        "      true_transition, true_reward, true_discount, temperature)) - smooth_bellman_optimality_operator(\n",
        "          x[1], (x[3], x[4], true_discount, temperature)))).item()], results))\n",
        "  errors_means = np.mean(errors, 0)\n",
        "  errors_stderrs = np.std(errors, 0) / np.sqrt(len(errors))\n",
        "  all_errors.append([errors_means, errors_stderrs])\n",
        "  \n",
        "  bounds = list(map(lambda x: [jnp.max(jnp.abs(smooth_bellman_optimality_operator(x[1], (\n",
        "      true_transition, true_reward, true_discount, temperature)) - smooth_bellman_optimality_operator(\n",
        "          x[1], (x[3], x[4], true_discount, temperature)))).item() / (1 - true_discount)], results))\n",
        "  bounds_means = np.mean(bounds, 0)\n",
        "  bounds_stderrs = np.std(bounds, 0) / np.sqrt(len(bounds))\n",
        "  all_bounds.append([bounds_means, bounds_stderrs])\n",
        "  \n",
        "  q_omd_approx = list(map(lambda x: [jnp.max(jnp.abs(Q_opt - x[1])).item()], results))\n",
        "  q_omd_approx_means = np.mean(q_omd_approx, 0)\n",
        "  q_omd_approx_stderrs = np.std(q_omd_approx, 0) / np.sqrt(len(q_omd_approx))\n",
        "  all_q_omd_approx.append([q_omd_approx_means, q_omd_approx_stderrs])\n",
        "\n",
        "  bounds_omd_gap = list(map(lambda x: [x[0][0] - x[1][0]], zip(bounds, q_omd_approx)))\n",
        "  bounds_omd_gap_means = np.mean(bounds_omd_gap, 0)\n",
        "  bounds_omd_gap_stderrs = np.std(bounds_omd_gap, 0) / np.sqrt(len(bounds_omd_gap))\n",
        "  all_bounds_omd_gap.append([bounds_omd_gap_means, bounds_omd_gap_stderrs])\n",
        "  \n",
        "print('Done in {:.2f} minutes'.format((time.time() - start) / 60))"
      ],
      "execution_count": null,
      "outputs": [
        {
          "output_type": "stream",
          "text": [
            "Done 1/20 bounds\n",
            "Done 2/20 bounds\n",
            "Done 3/20 bounds\n",
            "Done 4/20 bounds\n",
            "Done 5/20 bounds\n",
            "Done 6/20 bounds\n",
            "Done 7/20 bounds\n",
            "Done 8/20 bounds\n",
            "Done 9/20 bounds\n",
            "Done 10/20 bounds\n",
            "Done 11/20 bounds\n",
            "Done 12/20 bounds\n",
            "Done 13/20 bounds\n",
            "Done 14/20 bounds\n",
            "Done 15/20 bounds\n",
            "Done 16/20 bounds\n",
            "Done 17/20 bounds\n",
            "Done 18/20 bounds\n",
            "Done 19/20 bounds\n",
            "Done 20/20 bounds\n",
            "Done in 5.05 minutes\n"
          ],
          "name": "stdout"
        }
      ]
    },
    {
      "cell_type": "code",
      "metadata": {
        "id": "SYp_8_CFACdb",
        "colab": {
          "base_uri": "https://localhost:8080/",
          "height": 367
        },
        "outputId": "8b1db052-1f57-46e4-9ccc-36f36c23d500"
      },
      "source": [
        "idx = 17\n",
        "plt.figure()\n",
        "\n",
        "all_bounds_omd_gap_means = np.array(list(map(lambda x: x[0][0], all_bounds_omd_gap[:idx])))\n",
        "all_bounds_omd_gap_stderrs = np.array(list(map(lambda x: x[1][0], all_bounds_omd_gap[:idx])))\n",
        "plt.plot(norm_bound_list[:idx], all_bounds_omd_gap_means, 's-', c='r', label=r'$\\frac{\\epsilon}{1-\\gamma} - \\max_{s,a}|Q^*(s,a) - \\hat{Q}_{OMD}(s,a)|$', markersize=6)\n",
        "plt.fill_between(norm_bound_list[:idx], \n",
        "                 all_bounds_omd_gap_means + all_bounds_omd_gap_stderrs,\n",
        "                 all_bounds_omd_gap_means - all_bounds_omd_gap_stderrs, \n",
        "                 color='r', alpha=0.1)\n",
        "\n",
        "all_bounds_mle_gap_means = np.array(list(map(lambda x: x[0][0], all_bounds_mle_gap[:idx])))\n",
        "all_bounds_mle_gap_stderrs = np.array(list(map(lambda x: x[1][0], all_bounds_mle_gap[:idx])))\n",
        "plt.plot(norm_bound_list[:idx], all_bounds_mle_gap_means, 'o-', c='b', label=r'$\\frac{\\epsilon_r}{1-\\gamma} + \\frac{\\gamma \\epsilon_p r_{\\max}}{2(1-\\gamma)^2} - \\max_{s,a}|Q^*(s,a) - \\hat{Q}_{MLE}(s,a)|$', markersize=6)\n",
        "plt.fill_between(norm_bound_list[:idx], \n",
        "                 all_bounds_mle_gap_means + all_bounds_mle_gap_stderrs,\n",
        "                 all_bounds_mle_gap_means - all_bounds_mle_gap_stderrs, \n",
        "                 color='b', alpha=0.1)\n",
        "\n",
        "all_q_omd_approx_means = np.array(list(map(lambda x: x[0][0], all_q_omd_approx[:idx])))\n",
        "all_q_omd_approx_stderrs = np.array(list(map(lambda x: x[1][0], all_q_omd_approx[:idx])))\n",
        "plt.plot(norm_bound_list[:idx], all_q_omd_approx_means, '^-',  c='r', label=r'$\\max_{s,a}|Q^*(s,a) - \\hat{Q}_{OMD}(s,a)|$', markersize=6)\n",
        "plt.fill_between(norm_bound_list[:idx], \n",
        "                 all_q_omd_approx_means + all_q_omd_approx_stderrs,\n",
        "                 all_q_omd_approx_means - all_q_omd_approx_stderrs, \n",
        "                 color='r', alpha=0.1)\n",
        "\n",
        "all_q_mle_approx_means = np.array(list(map(lambda x: x[0][0], all_q_mle_approx[:idx])))\n",
        "all_q_mle_approx_stderrs = np.array(list(map(lambda x: x[1][0], all_q_mle_approx[:idx])))\n",
        "plt.plot(norm_bound_list[:idx], all_q_mle_approx_means, 'v-',  c='b', label=r'$\\max_{s,a}|Q^*(s,a) - \\hat{Q}_{MLE}(s,a)|$', markersize=6)\n",
        "plt.fill_between(norm_bound_list[:idx], \n",
        "                 all_q_mle_approx_means + all_q_mle_approx_stderrs,\n",
        "                 all_q_mle_approx_means - all_q_mle_approx_stderrs, \n",
        "                 color='b', alpha=0.1)\n",
        "\n",
        "plt.yscale('log', basey=2)\n",
        "plt.xlabel('Model Parameter Norm')\n",
        "plt.legend()\n",
        "plt.tight_layout()\n",
        "plt.savefig('tightness_bound_tab_with_q_approx.pdf')"
      ],
      "execution_count": null,
      "outputs": [
        {
          "output_type": "display_data",
          "data": {
            "image/png": "[encoded data removed]",
            "text/plain": [
              "<Figure size 480x360 with 1 Axes>"
            ]
          },
          "metadata": {
            "tags": []
          }
        }
      ]
    },
    {
      "cell_type": "markdown",
      "metadata": {
        "id": "b8I6NBdZUuAO"
      },
      "source": [
        "## Analysis of the IFT sensitivity to the inner loop solution and the Jacobian"
      ]
    },
    {
      "cell_type": "code",
      "metadata": {
        "id": "jJXQRTxFX1pD"
      },
      "source": [
        "# code from https://github.com/gehring/fax/blob/master/fax/implicit/twophase.py\n",
        "# we only modify two_phase_rev function to substitute the Jacobian with I\n",
        "\n",
        "from fax.implicit.twophase import default_convergence_test, default_solver\n",
        "\n",
        "import functools\n",
        "import logging\n",
        "import operator\n",
        "\n",
        "import jax\n",
        "#import jax.numpy as np\n",
        "\n",
        "from fax import converge\n",
        "from fax import loop\n",
        "\n",
        "logger = logging.getLogger(__name__)\n",
        "\n",
        "_add = functools.partial(jax.tree_multimap, operator.add)\n",
        "\n",
        "\n",
        "@functools.partial(jax.custom_vjp, nondiff_argnums=(0, 3))\n",
        "def two_phase_solve_identity(param_func, init_xs, params, solvers=()):\n",
        "    \"\"\" Create an implicit function of the parameters and \n",
        "        define its APPROXIMATE VJP rule.\n",
        "    Args:\n",
        "        param_func: A \"parametric\" operator (i.e., callable) taking in some\n",
        "            parameters and returning a function for which we seek a\n",
        "            fixed-point.\n",
        "        init_xs: The initial \"guess\" for the fixed-point of\n",
        "            `param_func(params)(x) = x`.\n",
        "        params: The parameters to use when evaluating `param_func`.\n",
        "        solvers (optional): A sequence of solvers to be used for solving for\n",
        "            the different fixed-point required for solving the given parametric\n",
        "            fixed-point and its derivatives. Specifying solvers is optional. If\n",
        "            a `None` value is encountered in the sequence, the default solver\n",
        "            will be used.\n",
        "            The first solver in the sequence is used to solve for the\n",
        "            parametric fixed point and every subsequent solver is used to\n",
        "            compute the derivatives of increasing order. For example,\n",
        "            `solvers[1]` is the solver used when computing the first order\n",
        "            while `solvers[2]` would be used to solve for the second order\n",
        "            derivatives.\n",
        "            Each solver should be a callable taking in a parametric function\n",
        "            (i.e., a callable which returns a callable) for which we seek a\n",
        "            fixed-point, the initial guess, and the parameters to use. Except\n",
        "            for the first solvers, the function given as first argument will\n",
        "            not be `param_func` but a VJP function derived from `param_func`.\n",
        "            Formally, a solver is expected to have the following signature:\n",
        "            ```\n",
        "            ((b -> (a -> a)) -> a -> b) -> a\n",
        "            ```\n",
        "            For `solver[0]`, a is simply the type of `init_xs`, b is the type\n",
        "            of `param`.\n",
        "    Returns:\n",
        "        The solution to the parametric fixed-point with reverse differentiation\n",
        "        rules defined using the implicit function theorem.\n",
        "    \"\"\"\n",
        "\n",
        "    # If no solver is given or if None is found in its place, use the default\n",
        "    # fixed-point iteration solver.\n",
        "    if solvers and solvers[0] is not None:\n",
        "        fwd_solver = solvers[0]\n",
        "    else:\n",
        "        fwd_solver = default_solver()\n",
        "\n",
        "    return fwd_solver(param_func, init_xs, params)\n",
        "\n",
        "\n",
        "def two_phase_fwd(param_func, init_xs, params, solvers):\n",
        "    sol = two_phase_solve_identity(param_func, init_xs, params, solvers)\n",
        "    return sol, (sol, params)\n",
        "\n",
        "\n",
        "# we only change this part of code\n",
        "def two_phase_rev_identity(param_func, solvers, res, sol_bar):\n",
        "    sol, params = res\n",
        "    _, dparam_vjp = jax.vjp(lambda p: param_func(p)(sol), params)\n",
        "    return jax.tree_map(jnp.zeros_like, sol), dparam_vjp(sol_bar)[0]\n",
        "\n",
        "\n",
        "# def two_phase_rev(param_func, solvers, res, sol_bar):\n",
        "\n",
        "#     def param_dfp_fn(packed_params):\n",
        "#         v, p, dvalue = packed_params\n",
        "#         _, fp_vjp_fn = jax.vjp(lambda x: param_func(p)(x), v)\n",
        "\n",
        "#         def dfp_fn(dout):\n",
        "#             dout = _add(fp_vjp_fn(dout)[0], dvalue)\n",
        "#             return dout\n",
        "\n",
        "#         return dfp_fn\n",
        "\n",
        "#     sol, params = res\n",
        "#     dsol = two_phase_solve(param_dfp_fn,\n",
        "#                            sol_bar,\n",
        "#                            (sol, params, sol_bar),\n",
        "#                            solvers[1:])\n",
        "#     _, dparam_vjp = jax.vjp(lambda p: param_func(p)(sol), params)\n",
        "#     return jax.tree_map(np.zeros_like, sol), dparam_vjp(dsol)[0]\n",
        "    \n",
        "\n",
        "two_phase_solve_identity.defvjp(two_phase_fwd, two_phase_rev_identity)"
      ],
      "execution_count": null,
      "outputs": []
    },
    {
      "cell_type": "code",
      "metadata": {
        "id": "fIwT8i-VUuAQ",
        "colab": {
          "base_uri": "https://localhost:8080/"
        },
        "outputId": "8a6f37fc-27b6-419a-8263-0ddd3f3c3854"
      },
      "source": [
        "start = time.time()\n",
        "std_list = np.logspace(-3, 0.5, 30)\n",
        "num_seeds = 10\n",
        "Js_inv_jac = np.zeros((len(std_list), num_seeds))\n",
        "Bs_inv_jac = np.zeros((len(std_list), num_seeds))\n",
        "Js_no_inv_jac = np.zeros((len(std_list), num_seeds))\n",
        "Bs_no_inv_jac = np.zeros((len(std_list), num_seeds))\n",
        "\n",
        "kwargs = {'max_iter': 10000, 'lr_func': 0.01, 'optimizer': optimizers.adam}\n",
        "\n",
        "for i, std in enumerate(std_list):\n",
        "  for j, seed in enumerate(range(1, num_seeds+1)):\n",
        "    kwargs['seed'] = seed\n",
        "    kwargs['std'] = std\n",
        "    \n",
        "    rngs = jax.random.split(jax.random.PRNGKey(seed), 3)\n",
        "    initial_values = (\n",
        "      jax.random.uniform(rngs[0], true_reward.shape),\n",
        "      (jax.random.uniform(rngs[1], true_transition.shape), \n",
        "      jax.random.uniform(rngs[2], true_reward.shape))\n",
        "    )\n",
        "\n",
        "    solution = implicit_ecp(objective_bellman, equality_constraints, initial_values, **kwargs)\n",
        "    Js_inv_jac[i,j] = objective_returns(solution[0], solution[1]).item()\n",
        "    Bs_inv_jac[i,j] = -objective_bellman(solution[0], solution[1]).item()\n",
        "\n",
        "    solution = implicit_ecp(objective_bellman, equality_constraints, initial_values, \n",
        "                          **kwargs, constraints_solver=two_phase_solve_identity)\n",
        "    Js_no_inv_jac[i,j] = objective_returns(solution[0], solution[1]).item()\n",
        "    Bs_no_inv_jac[i,j] = -objective_bellman(solution[0], solution[1]).item()\n",
        "  \n",
        "  print('Done {}/{} stds'.format(i+1, len(std_list)))\n",
        "print('Done in {:.2f} minutes'.format((time.time() - start) / 60))"
      ],
      "execution_count": null,
      "outputs": [
        {
          "output_type": "stream",
          "text": [
            "Done 1/30 stds\n",
            "Done 2/30 stds\n",
            "Done 3/30 stds\n",
            "Done 4/30 stds\n",
            "Done 5/30 stds\n",
            "Done 6/30 stds\n",
            "Done 7/30 stds\n",
            "Done 8/30 stds\n",
            "Done 9/30 stds\n",
            "Done 10/30 stds\n",
            "Done 11/30 stds\n",
            "Done 12/30 stds\n",
            "Done 13/30 stds\n",
            "Done 14/30 stds\n",
            "Done 15/30 stds\n",
            "Done 16/30 stds\n",
            "Done 17/30 stds\n",
            "Done 18/30 stds\n",
            "Done 19/30 stds\n",
            "Done 20/30 stds\n",
            "Done 21/30 stds\n",
            "Done 22/30 stds\n",
            "Done 23/30 stds\n",
            "Done 24/30 stds\n",
            "Done 25/30 stds\n",
            "Done 26/30 stds\n",
            "Done 27/30 stds\n",
            "Done 28/30 stds\n",
            "Done 29/30 stds\n",
            "Done 30/30 stds\n",
            "Done in 13.61 minutes\n"
          ],
          "name": "stdout"
        }
      ]
    },
    {
      "cell_type": "code",
      "metadata": {
        "id": "2_AK6qvk3ZWU",
        "colab": {
          "base_uri": "https://localhost:8080/",
          "height": 366
        },
        "outputId": "aa2e6c3e-6253-4f34-a168-3afd05406e56"
      },
      "source": [
        "m, s = Js_inv_jac.mean(1), Js_inv_jac.std(1)\n",
        "plt.plot(std_list, m, label='With Inverse Jacobian', alpha=0.8)\n",
        "plt.fill_between(std_list, m - 0.3 * s, m + 0.3 * s, alpha=0.2)\n",
        "\n",
        "m, s = Js_no_inv_jac.mean(1), Js_no_inv_jac.std(1)\n",
        "plt.plot(std_list, m, label='With Identity Approximation', alpha=0.8)\n",
        "plt.fill_between(std_list, m - 0.3 * s, m + 0.3 * s, alpha=0.2)\n",
        "\n",
        "plt.xscale('log')\n",
        "plt.legend()\n",
        "plt.ylabel('Expected Return')\n",
        "plt.xlabel(r'Noise Std $\\sigma$')\n",
        "plt.yticks()\n",
        "plt.xticks()\n",
        "\n",
        "plt.tight_layout()\n",
        "plt.savefig('ift_approx_tab.pdf')"
      ],
      "execution_count": null,
      "outputs": [
        {
          "output_type": "display_data",
          "data": {
            "image/png": "[encoded data removed]",
            "text/plain": [
              "<Figure size 480x360 with 1 Axes>"
            ]
          },
          "metadata": {
            "tags": []
          }
        }
      ]
    },
    {
      "cell_type": "code",
      "metadata": {
        "id": "F66G8LyObVA2"
      },
      "source": [
        ""
      ],
      "execution_count": null,
      "outputs": []
    }
  ]
}